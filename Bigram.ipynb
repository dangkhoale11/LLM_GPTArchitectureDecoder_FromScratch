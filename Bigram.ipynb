{
 "cells": [
  {
   "cell_type": "code",
   "execution_count": 66,
   "id": "2a7563e2-cf1c-43f2-b424-2e8aabe18b36",
   "metadata": {},
   "outputs": [
    {
     "name": "stdout",
     "output_type": "stream",
     "text": [
      "cuda\n"
     ]
    }
   ],
   "source": [
    "import torch\n",
    "import torch.nn as nn\n",
    "from torch.nn import functional as F\n",
    "device = 'cuda' if torch.cuda.is_available() else 'cpu'\n",
    "print(device)\n",
    "block_size = 8\n",
    "batch_size = 4\n",
    "eval_iters = 250\n",
    "learning_rate = 3e-4\n",
    "max_iters = 10000"
   ]
  },
  {
   "cell_type": "code",
   "execution_count": 68,
   "id": "2e9f973b-76aa-4828-9300-9de9e933d75d",
   "metadata": {},
   "outputs": [
    {
     "name": "stdout",
     "output_type": "stream",
     "text": [
      "['\\n', ' ', '!', '\"', '&', \"'\", '(', ')', '*', ',', '-', '.', '0', '1', '2', '3', '4', '5', '6', '7', '8', '9', ':', ';', '?', 'A', 'B', 'C', 'D', 'E', 'F', 'G', 'H', 'I', 'J', 'K', 'L', 'M', 'N', 'O', 'P', 'Q', 'R', 'S', 'T', 'U', 'V', 'W', 'X', 'Y', 'Z', '[', ']', '_', 'a', 'b', 'c', 'd', 'e', 'f', 'g', 'h', 'i', 'j', 'k', 'l', 'm', 'n', 'o', 'p', 'q', 'r', 's', 't', 'u', 'v', 'w', 'x', 'y', 'z', '\\ufeff']\n"
     ]
    }
   ],
   "source": [
    "with open('wizard_of_oz.txt', 'r', encoding='utf-8') as f:\n",
    "          text = f.read()\n",
    "chars = sorted(set(text))\n",
    "print(chars)\n",
    "vocab_size = len(chars)"
   ]
  },
  {
   "cell_type": "code",
   "execution_count": 70,
   "id": "025e38c7-f02d-4c29-91f4-aa97d3dc402d",
   "metadata": {},
   "outputs": [
    {
     "name": "stdout",
     "output_type": "stream",
     "text": [
      "[61, 58, 65, 65, 68]\n",
      "hello\n"
     ]
    }
   ],
   "source": [
    "string_to_int = {ch:i for i,ch in enumerate(chars)}\n",
    "int_to_string = {i:ch for i,ch in enumerate(chars)}\n",
    "encode = lambda s: [string_to_int[c] for c in s]\n",
    "decode = lambda l: ''.join([int_to_string[i] for i in l])\n",
    "\n",
    "\n",
    "encoded_hello = encode('hello')\n",
    "decoded_hello = decode(encoded_hello)\n",
    "\n",
    "print(encoded_hello)\n",
    "print(decoded_hello)\n"
   ]
  },
  {
   "cell_type": "code",
   "execution_count": 72,
   "id": "c228261a-acd6-43b8-ba05-1df975c0237b",
   "metadata": {},
   "outputs": [
    {
     "name": "stdout",
     "output_type": "stream",
     "text": [
      "tensor([80,  1,  1, 28, 39, 42, 39, 44, 32, 49,  1, 25, 38, 28,  1, 44, 32, 29,\n",
      "         1, 47, 33, 50, 25, 42, 28,  1, 33, 38,  1, 39, 50,  0,  0,  1,  1, 26,\n",
      "        49,  0,  0,  1,  1, 36, 11,  1, 30, 42, 25, 38, 35,  1, 26, 25, 45, 37,\n",
      "         0,  0,  1,  1, 25, 45, 44, 32, 39, 42,  1, 39, 30,  1, 44, 32, 29,  1,\n",
      "        47, 33, 50, 25, 42, 28,  1, 39, 30,  1, 39, 50,  9,  1, 44, 32, 29,  1,\n",
      "        36, 25, 38, 28,  1, 39, 30,  1, 39, 50])\n"
     ]
    }
   ],
   "source": [
    "data = torch.tensor(encode(text), dtype=torch.long)\n",
    "print(data[:100])"
   ]
  },
  {
   "cell_type": "code",
   "execution_count": 74,
   "id": "a04298c3-1c37-47e6-8822-6afddfde4877",
   "metadata": {},
   "outputs": [
    {
     "name": "stdout",
     "output_type": "stream",
     "text": [
      "Inputs:\n",
      "tensor([[54, 75, 58,  1, 54, 67,  1, 62],\n",
      "        [68, 76,  9,  3,  1, 72, 54, 62],\n",
      "        [60, 65, 58, 73, 72, 24,  1, 49],\n",
      "        [ 1, 57, 62, 57,  1, 67, 68, 73]], device='cuda:0')\n",
      "Target:\n",
      "tensor([[75, 58,  1, 54, 67,  1, 62, 57],\n",
      "        [76,  9,  3,  1, 72, 54, 62, 57],\n",
      "        [65, 58, 73, 72, 24,  1, 49, 68],\n",
      "        [57, 62, 57,  1, 67, 68, 73,  0]], device='cuda:0')\n"
     ]
    }
   ],
   "source": [
    "n = int(0.8*len(data))\n",
    "train_data = data[:n]\n",
    "val_data = data[n:]\n",
    "\n",
    "def get_batch(split):\n",
    "    data = train_data if split == 'train' else val_data\n",
    "    ix = torch.randint(len(data) - block_size, (batch_size,))\n",
    "    # print(ix)\n",
    "    x = torch.stack([data[i : i + block_size] for i in ix])\n",
    "    y = torch.stack([data[i + 1 : i + block_size + 1] for i in ix])\n",
    "    x, y = x.to(device), y.to(device)\n",
    "    return x, y\n",
    "\n",
    "x, y = get_batch('train')\n",
    "print('Inputs:')\n",
    "print(x)\n",
    "print('Target:')\n",
    "print(y)\n"
   ]
  },
  {
   "cell_type": "code",
   "execution_count": 76,
   "id": "a5078c22-5ebf-48fa-9dbc-d2ba82e4a93a",
   "metadata": {},
   "outputs": [
    {
     "name": "stdout",
     "output_type": "stream",
     "text": [
      "when input is  tensor([80])  target is tensor(1)\n",
      "when input is  tensor([80,  1])  target is tensor(1)\n",
      "when input is  tensor([80,  1,  1])  target is tensor(28)\n",
      "when input is  tensor([80,  1,  1, 28])  target is tensor(39)\n",
      "when input is  tensor([80,  1,  1, 28, 39])  target is tensor(42)\n",
      "when input is  tensor([80,  1,  1, 28, 39, 42])  target is tensor(39)\n",
      "when input is  tensor([80,  1,  1, 28, 39, 42, 39])  target is tensor(44)\n",
      "when input is  tensor([80,  1,  1, 28, 39, 42, 39, 44])  target is tensor(32)\n"
     ]
    }
   ],
   "source": [
    "\n",
    "x = train_data[:block_size]\n",
    "y = train_data[1:block_size + 1]\n",
    "\n",
    "for t in range(block_size):\n",
    "    context = x[:t+1]\n",
    "    target = y[t]\n",
    "    print('when input is ', context, ' target is', target)"
   ]
  },
  {
   "cell_type": "code",
   "execution_count": 78,
   "id": "2063f958-8227-4cb8-9a91-e32f902ce1d6",
   "metadata": {},
   "outputs": [],
   "source": [
    "@torch.no_grad()\n",
    "def estimate_loss():\n",
    "    out = {}\n",
    "    model.eval()\n",
    "    for split in ['train','val']:\n",
    "        losses = torch.zeros(eval_iters)\n",
    "        for k in range(eval_iters):\n",
    "            x,y = get_batch(split)\n",
    "            logits, loss = model.forward(x,y)\n",
    "            losses[k] = loss.item()\n",
    "        out[split] = losses.mean()\n",
    "    model.train()\n",
    "    return out"
   ]
  },
  {
   "cell_type": "code",
   "execution_count": 94,
   "id": "615d5e97-21ff-44de-913e-879519f5be29",
   "metadata": {
    "scrolled": true
   },
   "outputs": [
    {
     "name": "stdout",
     "output_type": "stream",
     "text": [
      "\n",
      "V;TiRTkb4c\n",
      "<generator object Module.parameters at 0x00000142242F10E0>\n"
     ]
    }
   ],
   "source": [
    "class BigramLanguageModel(nn.Module):\n",
    "    def __init__(self, vocab_size):\n",
    "        super().__init__()\n",
    "        self.token_embedding_table = nn.Embedding(vocab_size, vocab_size)\n",
    "        \n",
    "    def forward(self, index, targets=None):\n",
    "        logits = self.token_embedding_table(index)\n",
    "        \n",
    "        \n",
    "        if targets is None:\n",
    "            loss = None\n",
    "        else:\n",
    "            B, T, C = logits.shape\n",
    "            logits = logits.view(B*T, C)\n",
    "            targets = targets.view(B*T)\n",
    "            loss = F.cross_entropy(logits, targets)\n",
    "        \n",
    "        return logits, loss\n",
    "    \n",
    "    def generate(self, index, max_new_tokens):\n",
    "        # index is (B, T) array of indices in the current context\n",
    "        for _ in range(max_new_tokens):\n",
    "            # get the predictions\n",
    "            logits, loss = self.forward(index)\n",
    "            # focus only on the last time step\n",
    "            logits = logits[:, -1, :] # becomes (B, C)\n",
    "            # apply sigmoid to get probabilities\n",
    "            probs = F.sigmoid(logits) \n",
    "            # print(probs)\n",
    "            # sample from the distribution\n",
    "            index_next = torch.multinomial(probs, num_samples=1) # (B, 1)\n",
    "            # append sampled index to the running sequence\n",
    "            index = torch.cat((index, index_next), dim=1) # (B, T+1)\n",
    "        return index\n",
    "\n",
    "model = BigramLanguageModel(vocab_size)\n",
    "m = model.to(device)\n",
    "\n",
    "context = torch.zeros((1,1), dtype=torch.long, device=device)\n",
    "generated_chars = decode(m.generate(context, max_new_tokens=10)[0].tolist())\n",
    "print(generated_chars)\n",
    "print(model.parameters())"
   ]
  },
  {
   "cell_type": "code",
   "execution_count": 82,
   "id": "f94e1f47-7036-44d1-a389-856d68095e89",
   "metadata": {},
   "outputs": [
    {
     "name": "stdout",
     "output_type": "stream",
     "text": [
      "step: 0, train loss: 4.919, val loss: 4.931\n",
      "step: 250, train loss: 4.839, val loss: 4.858\n",
      "step: 500, train loss: 4.786, val loss: 4.765\n",
      "step: 750, train loss: 4.726, val loss: 4.727\n",
      "step: 1000, train loss: 4.651, val loss: 4.650\n",
      "step: 1250, train loss: 4.617, val loss: 4.598\n",
      "step: 1500, train loss: 4.546, val loss: 4.541\n",
      "step: 1750, train loss: 4.472, val loss: 4.491\n",
      "step: 2000, train loss: 4.447, val loss: 4.434\n",
      "step: 2250, train loss: 4.395, val loss: 4.402\n",
      "step: 2500, train loss: 4.334, val loss: 4.324\n",
      "step: 2750, train loss: 4.268, val loss: 4.271\n",
      "step: 3000, train loss: 4.231, val loss: 4.224\n",
      "step: 3250, train loss: 4.157, val loss: 4.174\n",
      "step: 3500, train loss: 4.119, val loss: 4.127\n",
      "step: 3750, train loss: 4.072, val loss: 4.079\n",
      "step: 4000, train loss: 4.028, val loss: 4.050\n",
      "step: 4250, train loss: 3.987, val loss: 3.983\n",
      "step: 4500, train loss: 3.934, val loss: 3.951\n",
      "step: 4750, train loss: 3.908, val loss: 3.899\n",
      "step: 5000, train loss: 3.829, val loss: 3.849\n",
      "step: 5250, train loss: 3.808, val loss: 3.804\n",
      "step: 5500, train loss: 3.784, val loss: 3.779\n",
      "step: 5750, train loss: 3.718, val loss: 3.736\n",
      "step: 6000, train loss: 3.688, val loss: 3.714\n",
      "step: 6250, train loss: 3.648, val loss: 3.669\n",
      "step: 6500, train loss: 3.612, val loss: 3.636\n",
      "step: 6750, train loss: 3.592, val loss: 3.580\n",
      "step: 7000, train loss: 3.561, val loss: 3.542\n",
      "step: 7250, train loss: 3.502, val loss: 3.509\n",
      "step: 7500, train loss: 3.481, val loss: 3.483\n",
      "step: 7750, train loss: 3.450, val loss: 3.476\n",
      "step: 8000, train loss: 3.402, val loss: 3.445\n",
      "step: 8250, train loss: 3.366, val loss: 3.380\n",
      "step: 8500, train loss: 3.354, val loss: 3.364\n",
      "step: 8750, train loss: 3.308, val loss: 3.341\n",
      "step: 9000, train loss: 3.268, val loss: 3.294\n",
      "step: 9250, train loss: 3.248, val loss: 3.297\n",
      "step: 9500, train loss: 3.209, val loss: 3.243\n",
      "step: 9750, train loss: 3.213, val loss: 3.215\n",
      "2.8831872940063477\n"
     ]
    }
   ],
   "source": [
    "# create a PyTorch optimizer\n",
    "optimizer = torch.optim.AdamW(model.parameters(), lr=learning_rate)\n",
    "\n",
    "for iter in range(max_iters):\n",
    "    if iter % eval_iters == 0:\n",
    "        losses = estimate_loss()\n",
    "        print(f\"step: {iter}, train loss: {losses['train']:.3f}, val loss: {losses['val']:.3f}\")\n",
    "\n",
    "    # sample a batch of data\n",
    "    xb, yb = get_batch('train')\n",
    "\n",
    "    # evaluate the loss\n",
    "    logits, loss = model.forward(xb, yb)\n",
    "    optimizer.zero_grad(set_to_none=True)\n",
    "    loss.backward()\n",
    "    optimizer.step()\n",
    "print(loss.item())\n",
    "    "
   ]
  },
  {
   "cell_type": "code",
   "execution_count": null,
   "id": "ede98c78-25e5-42f4-be06-b4585586b7aa",
   "metadata": {},
   "outputs": [],
   "source": []
  }
 ],
 "metadata": {
  "kernelspec": {
   "display_name": "cuda gpt",
   "language": "python",
   "name": "cuda"
  },
  "language_info": {
   "codemirror_mode": {
    "name": "ipython",
    "version": 3
   },
   "file_extension": ".py",
   "mimetype": "text/x-python",
   "name": "python",
   "nbconvert_exporter": "python",
   "pygments_lexer": "ipython3",
   "version": "3.12.7"
  }
 },
 "nbformat": 4,
 "nbformat_minor": 5
}
